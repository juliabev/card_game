{
 "cells": [
  {
   "cell_type": "code",
   "execution_count": 2,
   "metadata": {},
   "outputs": [],
   "source": [
    "import numpy as np"
   ]
  },
  {
   "cell_type": "code",
   "execution_count": 3,
   "metadata": {},
   "outputs": [],
   "source": [
    "data = np.load('raw_data/_rawDecks_1_n=10000.npz')"
   ]
  },
  {
   "cell_type": "code",
   "execution_count": 4,
   "metadata": {},
   "outputs": [
    {
     "name": "stdout",
     "output_type": "stream",
     "text": [
      "NpzFile 'raw_data/_rawDecks_1_n=10000.npz' with keys: decks\n",
      "['decks']\n"
     ]
    }
   ],
   "source": [
    "print(data)\n",
    "print(data.files)"
   ]
  },
  {
   "cell_type": "code",
   "execution_count": 9,
   "metadata": {},
   "outputs": [
    {
     "name": "stdout",
     "output_type": "stream",
     "text": [
      "52\n",
      "10000\n",
      "[0 1 1 1 1 0 1 0 0 0 1 1 1 1 1 1 1 0 0 1 1 1 1 0 0 0 1 0 1 0 0 0 0 0 1 0 0\n",
      " 0 1 0 1 1 0 0 1 1 1 1 0 0 0 0]\n"
     ]
    }
   ],
   "source": [
    "print(len(data['decks'][0]))\n",
    "print(len(data['decks']))\n",
    "print(data['decks'][0])"
   ]
  },
  {
   "cell_type": "code",
   "execution_count": 8,
   "metadata": {},
   "outputs": [
    {
     "name": "stdout",
     "output_type": "stream",
     "text": [
      "uint8\n"
     ]
    }
   ],
   "source": [
    "print(data['decks'].dtype)"
   ]
  },
  {
   "cell_type": "code",
   "execution_count": null,
   "metadata": {},
   "outputs": [],
   "source": []
  },
  {
   "cell_type": "code",
   "execution_count": 10,
   "metadata": {},
   "outputs": [],
   "source": [
    "data_scored = np.load('scored_data/_scoredDecks_195_n=10000.npy')"
   ]
  },
  {
   "cell_type": "code",
   "execution_count": 15,
   "metadata": {},
   "outputs": [
    {
     "name": "stdout",
     "output_type": "stream",
     "text": [
      "[[ 0  1  1  1  1  1  1  1]\n",
      " [-1  0 -1 -1  1 -1 -1 -1]\n",
      " [-1  1  0 -1  1 -1  1 -1]\n",
      " [-1  1  1  0  1 -1 -1 -1]\n",
      " [-1 -1 -1 -1  0 -1  1 -1]\n",
      " [-1  1  1  1  1  0  1 -1]\n",
      " [-1  1 -1  1 -1 -1  0 -1]\n",
      " [-1  1  1  1  1  1  1  0]]\n"
     ]
    }
   ],
   "source": [
    "print(data_scored[0][0])"
   ]
  },
  {
   "cell_type": "code",
   "execution_count": null,
   "metadata": {},
   "outputs": [],
   "source": []
  }
 ],
 "metadata": {
  "kernelspec": {
   "display_name": "Python 3.12.11 ('.venv': venv)",
   "language": "python",
   "name": "python3"
  },
  "language_info": {
   "codemirror_mode": {
    "name": "ipython",
    "version": 3
   },
   "file_extension": ".py",
   "mimetype": "text/x-python",
   "name": "python",
   "nbconvert_exporter": "python",
   "pygments_lexer": "ipython3",
   "version": "3.12.11"
  },
  "orig_nbformat": 4,
  "vscode": {
   "interpreter": {
    "hash": "482a490d6f3dd094b4e9ff596317c7080d3ebf65f238b9fd2d8e37944b3aad1f"
   }
  }
 },
 "nbformat": 4,
 "nbformat_minor": 2
}
