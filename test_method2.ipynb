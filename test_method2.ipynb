{
 "cells": [
  {
   "cell_type": "code",
   "execution_count": null,
   "metadata": {},
   "outputs": [],
   "source": [
    "import numpy as np\n",
    "import random\n",
    "\n",
    "full_deck = [0]*26 + [1]*26\n",
    "#shuffled_deck = random.shuffle(full_deck)\n",
    "\n",
    "player1 = [0,0,0]\n",
    "\n",
    "def getp1comb() -> list:\n",
    "    '''\n",
    "    Gives a random player 1 combo in the form of a list.\n",
    "    '''\n",
    "    for index in range(len(player1)):\n",
    "        player1[index] = random.choice((0,1))\n",
    "    return player1\n",
    "\n",
    "def getp2comb(list) -> list: # type hinting\n",
    "    \"\"\"\n",
    "    Return a list of 3 numbers that gives the best probability of winning the \n",
    "    humble nishiyama randomness game\n",
    "    \"\"\" \n",
    "\n",
    "    a, b, c = player1\n",
    "    return [1 - b, a, b]\n",
    "\n",
    "def shuffle(list) -> list:\n",
    "    '''\n",
    "    Shuffle full deck.\n",
    "    '''\n",
    "    shuffled_deck = full_deck.copy()\n",
    "    random.shuffle(shuffled_deck)\n",
    "    return shuffled_deck\n",
    "\n",
    "p1 = getp1comb()\n",
    "p2 = getp2comb(p1)\n",
    "\n",
    "def playGame(full_deck, p1, p2):\n",
    "    '''\n",
    "    Plays one singular game of The Humble-Nishiyama Randomness Game.\n",
    "    Returns .... \n",
    "    '''\n",
    "    index = 0\n",
    "    shuffled_deck = shuffle(full_deck)\n",
    "    len_deck = len(shuffled_deck)\n",
    "    tricks_p1, tricks_p2 = 0\n",
    "    first_trick = 0\n",
    "    \n",
    "\n",
    "#    for index, j in enumerate(shuffled_deck):\n",
    "#        temp_window = [None]*3\n",
    "#        temp_window = [index, index+1, index+2]\n",
    "\n",
    "\n",
    "#        index += 3\n",
    "    \n",
    "    # iterating throughout the deck and viewing 3 index values (\"cards\") at a time\n",
    "    while index <= len_deck - 3:\n",
    "        a, b, c = len_deck[index], len_deck[i+1], len_deck[i+2]\n",
    "        # if window of 3 vals match player 1 combo then + 1 to player 1 trick score\n",
    "        if (a, b, c) == p1:\n",
    "            tricks_p1 += 1\n",
    "\n",
    "                # if window of 3 vals match player 2 combo then + 1 to player 2 trick score\n",
    "        elif (a, b, c) == p2:\n",
    "            tricks_p2 += 1\n",
    "\n",
    "        # if window of 3 vals matches neither combo, add 1 to index and look at 3 values shifted one over\n",
    "        else:\n",
    "            index += 1\n",
    "    \n",
    "    total_tricks = tricks_p1 + tricks_p2\n",
    "    \n",
    "\n",
    "\n",
    "        \n",
    "        \n",
    "\n",
    "    \n"
   ]
  },
  {
   "cell_type": "code",
   "execution_count": null,
   "metadata": {},
   "outputs": [],
   "source": [
    "def simulate_game():\n",
    "    pass"
   ]
  },
  {
   "cell_type": "code",
   "execution_count": null,
   "metadata": {},
   "outputs": [],
   "source": [
    "def save_results():\n",
    "    pass"
   ]
  }
 ],
 "metadata": {
  "kernelspec": {
   "display_name": "Python 3.9.6 64-bit",
   "language": "python",
   "name": "python3"
  },
  "language_info": {
   "name": "python",
   "version": "3.9.6"
  },
  "orig_nbformat": 4,
  "vscode": {
   "interpreter": {
    "hash": "7812ea015bdcee6f23a998adcdd2ef97c151c0c241b7b7070987d9313e41299d"
   }
  }
 },
 "nbformat": 4,
 "nbformat_minor": 2
}
